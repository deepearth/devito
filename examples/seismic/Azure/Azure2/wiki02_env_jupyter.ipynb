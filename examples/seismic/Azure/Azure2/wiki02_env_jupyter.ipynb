{
 "cells": [
  {
   "cell_type": "markdown",
   "metadata": {
    "collapsed": true
   },
   "source": [
    "# GPU/CPU environment setup and launching Jupyter notebook\n",
    "\n",
    "This second wiki instruction follows the first wiki (Using Devito on GPUs with PGI OpenACC - link to be updated) and precedes the 2D FWI demo jupyter notebook. It explains how to use Devito environment variables to pick GPU or CPU for running your Devito jobs. After that, we show how to lauch Jupyter notebook in your local browser for running the 2D FWI demo in your Azure VM.\n",
    "\n",
    "After setting up the environment with the PGI OpenACC compiler installed, a user can determine whether to use GPU or CPU for running a Devito job by an easy switch. But if you plan to use CPU only, then there is no need to install the PGI OpenACC compiler. Depending on the number of GPUs or vCPUs on the VM, here is a list of choices for running the 2D FWI example on one VM.\n",
    "<br> (a) using one GPU\n",
    "<br> (b) using multi-GPUs with MPI (requires turning 2D FWI notebook into a python script)\n",
    "<br> (c) using one vCPU\n",
    "<br> (d) using multi-vCPUs with OpenMP\n",
    "\n",
    "Several Devito environment variables are used to determine configurations for using GPU/CPU. They can be set in the shell or python notebook/script, as listed below. More info can be found from [Devito FAQ](https://github.com/devitocodes/devito/wiki/FAQ).\n",
    "\n",
    "### Set Devito environment variables from the shell\n",
    "<br> (a) using one GPU\n",
    "```\n",
    "export DEVITO_PLATFORM=nvidiaX\n",
    "export DEVITO_ARCH=pgcc\n",
    "export DEVITO_LANGUAGE=openacc\n",
    "```\n",
    "<br> (b) using multi-GPUs with MPI (requires turning the 2D FWI notebook into a python script \"fwi.py\")\n",
    "```\n",
    "export DEVITO_PLATFORM=nvidiaX\n",
    "export DEVITO_ARCH=pgcc\n",
    "export DEVITO_LANGUAGE=openacc\n",
    "DEVITO_MPI=1 mpirun -n 4 python3 fwi.py   # Run this after setting environment variables\n",
    "```\n",
    "<br> (c) using one vCPU\n",
    "```\n",
    "export DEVITO_PLATFORM=cpu64   # This is default so no need to run it\n",
    "export DEVITO_ARCH=ccustom     # This is default so no need to run it\n",
    "export DEVITO_LANGUAGE=C       # This is default so no need to run it\n",
    "```\n",
    "<br> (d) using multi-vCPUs with OpenMP\n",
    "```\n",
    "export DEVITO_PLATFORM=cpu64\n",
    "export DEVITO_ARCH=ccustom\n",
    "export DEVITO_LANGUAGE=openmp\n",
    "```\n",
    "### Set Devito environment variables from the python notebook/script"
   ]
  },
  {
   "cell_type": "code",
   "execution_count": 1,
   "metadata": {
    "scrolled": true
   },
   "outputs": [],
   "source": [
    "from devito import configuration\n",
    "\n",
    "#(a) using one GPU\n",
    "#(b) using multi-GPUs with MPI (requires turning the notebook into a python script)\n",
    "configuration['platform'] = 'nvidiaX'\n",
    "configuration['compiler'] = 'pgcc'\n",
    "configuration['language'] = 'openacc'\n",
    "\n",
    "#(c) using one vCPU\n",
    "#configuration['platform'] = 'cpu64'     # This is default so no need to run it\n",
    "#configuration['compiler'] = 'ccustom'   # This is default so no need to run it\n",
    "#configuration['language'] = 'C'         # This is default so no need to run it\n",
    "\n",
    "#(d) using multi-vCPUs with OpenMP\n",
    "#configuration['platform'] = 'cpu64'\n",
    "#configuration['compiler'] = 'ccustom'\n",
    "#configuration['language'] = 'openmp'"
   ]
  },
  {
   "cell_type": "markdown",
   "metadata": {},
   "source": [
    "### Launching Jupyter notebook in a local browser\n",
    "\n",
    "Although you can launch Jupyter notebook in a remote desktop such as [X2GO](https://wiki.x2go.org/doku.php) (simply by typing `jupyter notebook` in a terminal), it would be smoother to use Jupyter notebook in your local browser. We will show how to lauch Jupyter notebook in your local browser for running the 2D FWI demo in your Azure VM.\n",
    "\n",
    "First access your VM through `ssh`. Replace \"1234\" by your VM port number, and replace \"user id\" and \"host address\" accordingly. Those commands can be run under \"Windows PowerShell\", \"Anaconda Powershell Prompt\" or your terminal.\n",
    "```\n",
    "ssh -p 1234 user@host.eastus.cloudapp.azure.com\n",
    "```\n",
    "After `ssh`  run the command below, replace \"5678\" by any port number you prefer.\n",
    "```\n",
    "jupyter notebook --no-browser --port=5678 --ip=$HOSTNAME\n",
    "```\n",
    "Then you will see some output like this:\n",
    "```\n",
    "http://127.0.0.1:5678/?token=8e8a2222a9a142555a1d8fd66d6634869def2c25ece611a5\n",
    "```\n",
    "Then in your local browser, enter the address below you will access Jupyter notebook.\n",
    "```\n",
    "http://host.eastus.cloudapp.azure.com:5678/?token=8e8a2222a9a142555a1d8fd66d6634869def2c25ece611a5\n",
    "```\n",
    "\n",
    "### Add paths before running Devito \n",
    "Also remember to add the paths below before you run the 2D FWI Jupyter notebook. Suggest adding the Cuda and PGI compiler paths below to your ~/.bashrc to avoid exporting them every time you wish to run Devito on GPU (already included in the first wiki instruction).\n",
    "```\n",
    "export PATH=/usr/local/cuda-10.1/bin:$PATH\n",
    "export LD_LIBRARY_PATH=/usr/local/cuda-10.1/lib64:$LD_LIBRARY_PATH\n",
    "\n",
    "export PGI=/opt/pgi\n",
    "export PATH=/opt/pgi/linux86-64/19.10/bin:$PATH\n",
    "export MANPATH=$MANPATH:/opt/pgi/linux86-64/19.10/man\n",
    "export LM_LICENSE_FILE=$LM_LICENSE_FILE:/opt/pgi/license.dat\n",
    "\n",
    "export PATH=$PGI/linux86-64/19.10/mpi/openmpi-3.1.3/bin:$PATH\n",
    "export MANPATH=$MANPATH:$PGI/linux86-64/19.10/mpi/openmpi-3.1.3/man\n",
    "```"
   ]
  }
 ],
 "metadata": {
  "@webio": {
   "lastCommId": null,
   "lastKernelId": null
  },
  "kernelspec": {
   "display_name": "Python 3",
   "language": "python",
   "name": "python3"
  },
  "language_info": {
   "codemirror_mode": {
    "name": "ipython",
    "version": 3
   },
   "file_extension": ".py",
   "mimetype": "text/x-python",
   "name": "python",
   "nbconvert_exporter": "python",
   "pygments_lexer": "ipython3",
   "version": "3.6.9"
  },
  "latex_envs": {
   "LaTeX_envs_menu_present": true,
   "autoclose": false,
   "autocomplete": true,
   "bibliofile": "biblio.bib",
   "cite_by": "apalike",
   "current_citInitial": 1,
   "eqLabelWithNumbers": true,
   "eqNumInitial": 1,
   "hotkeys": {
    "equation": "Ctrl-E",
    "itemize": "Ctrl-I"
   },
   "labels_anchors": false,
   "latex_user_defs": false,
   "report_style_numbering": false,
   "user_envs_cfg": false
  },
  "widgets": {
   "state": {},
   "version": "1.1.2"
  }
 },
 "nbformat": 4,
 "nbformat_minor": 1
}
